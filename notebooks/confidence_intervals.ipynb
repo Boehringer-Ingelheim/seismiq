{
 "cells": [
  {
   "cell_type": "code",
   "execution_count": null,
   "id": "2e6efd50",
   "metadata": {},
   "outputs": [],
   "source": [
    "import pickle\n",
    "from scipy.stats import permutation_test\n",
    "from scipy.stats import bootstrap\n",
    "import numpy as np\n",
    "import numpy as np\n",
    "import pandas as pd\n",
    "import seaborn as sns\n",
    "import pickle\n",
    "from io import BytesIO\n",
    "from pathlib import Path\n",
    "\n",
    "import matplotlib.pyplot as plt\n",
    "import numpy as np\n",
    "import pandas as pd\n",
    "import seaborn as sns\n",
    "\n",
    "import matplotlib.pyplot as plt "
   ]
  },
  {
   "cell_type": "code",
   "execution_count": null,
   "id": "8f896db3",
   "metadata": {},
   "outputs": [],
   "source": [
    "!mkdir -p dev/results\n",
    "!wget -O dev/results/de_novo_results.zip \\\n",
    "    \"https://zenodo.org/records/16438770/files/de_novo_results.zip?download=1\"\n",
    "!unzip -o dev/results/de_novo_results.zip -d dev/results/\n",
    "!rm dev/results/de_novo_results.zip\n",
    "\n",
    "!mkdir -p dev/results\n",
    "!wget -O dev/results/fragmentation_results.zip \\\n",
    "    \"https://zenodo.org/records/16438770/files/fragmentation_results.zip?download=1\"\n",
    "!unzip -o dev/results/fragmentation_results.zip -d dev/results/\n",
    "!rm dev/results/fragmentation_results.zip"
   ]
  },
  {
   "cell_type": "code",
   "execution_count": null,
   "id": "36b23423",
   "metadata": {},
   "outputs": [],
   "source": [
    "base_folder = Path(\"dev/results\")"
   ]
  },
  {
   "cell_type": "code",
   "execution_count": null,
   "id": "2fddff0f",
   "metadata": {},
   "outputs": [],
   "source": [
    "df = (\n",
    "    pd.concat(        \n",
    "    [\n",
    "            pickle.load(\n",
    "                BytesIO(p.read_bytes())\n",
    "            ).assign(\n",
    "                fragments=True,\n",
    "            )\n",
    "            for p in (base_folder / \"fragmentation_results\").iterdir()\n",
    "        ] + [\n",
    "            pickle.load(\n",
    "                BytesIO(p.read_bytes())\n",
    "            ).assign(\n",
    "                fragments=False,\n",
    "            )\n",
    "            for p in (base_folder / \"de_novo_results\").iterdir()\n",
    "        ], ignore_index=True\n",
    "    )\n",
    ").loc[\n",
    "    lambda d: d['model'].eq(\"seismiq_pretrained\")\n",
    "]\n",
    "\n",
    "df"
   ]
  },
  {
   "cell_type": "code",
   "execution_count": null,
   "id": "cf3b495f",
   "metadata": {},
   "outputs": [],
   "source": [
    "df_acc = (\n",
    "    df.groupby(\n",
    "        [\"model\", \"dataset\", \"challenge\", \"fragments\", \"bond_idx\", \"dummy_idx\", \"given_atoms\", \"missing_atoms\"],\n",
    "        dropna=False,\n",
    "    )['tanimoto']\n",
    "    .max()\n",
    "    .to_frame()\n",
    "    .reset_index()\n",
    "    .assign(\n",
    "        accuracy=lambda d: d[\"tanimoto\"] > 0.9999,\n",
    "        missing_atoms_bin=lambda d: pd.cut(\n",
    "            d[\"missing_atoms\"],\n",
    "            bins=[1, 5, 10, 20, 30, 45, 90, 9000]\n",
    "        )\n",
    "    )\n",
    ")\n",
    "\n",
    "df_acc"
   ]
  },
  {
   "cell_type": "code",
   "execution_count": null,
   "id": "c60d8e71",
   "metadata": {},
   "outputs": [],
   "source": [
    "results = []\n",
    "groups = df_acc.groupby(\n",
    "    [\"model\", \"dataset\", \"missing_atoms_bin\"],\n",
    "    dropna=False,\n",
    ")\n",
    "for (model, dataset, missing), group in groups:\n",
    "    vals = group[\"accuracy\"].values.astype(int)\n",
    "    res = bootstrap(\n",
    "        (vals,),\n",
    "        statistic=lambda x: np.mean(x),\n",
    "        alternative=\"two-sided\",\n",
    "    )\n",
    "\n",
    "    ci_low, ci_high = res.confidence_interval.low, res.confidence_interval.high\n",
    "    if res.standard_error < 1e-6:\n",
    "        # these are nan's if the values are all the same\n",
    "        ci_low = ci_high = np.mean(vals)\n",
    "\n",
    "    results.append(\n",
    "        {\n",
    "            #\"model\": model,\n",
    "            \"dataset\": dataset,\n",
    "            \"missing\": missing,\n",
    "            \"correct\": vals.sum(),\n",
    "            \"total\": len(vals),\n",
    "            \"accuracy\": vals.mean(),\n",
    "            \"ci_low\": ci_low,\n",
    "            \"ci_high\": ci_high,\n",
    "            \"se\": res.standard_error,\n",
    "        }\n",
    "    )"
   ]
  },
  {
   "cell_type": "code",
   "execution_count": null,
   "id": "17ad5e69",
   "metadata": {},
   "outputs": [],
   "source": [
    "df_res = (\n",
    "    pd.DataFrame(results)\n",
    "    .assign(\n",
    "        missing=lambda d: np.where(d[\"missing\"].isna(), \"(all)\", d[\"missing\"].astype(str)),\n",
    "    )\n",
    "    .set_index([\"dataset\", \"missing\"])\n",
    ")\n",
    "\n",
    "from IPython.display import display\n",
    "with pd.option_context('display.float_format', '{:.4f}'.format):\n",
    "    display(df_res)"
   ]
  }
 ],
 "metadata": {
  "kernelspec": {
   "display_name": ".venv",
   "language": "python",
   "name": "python3"
  },
  "language_info": {
   "codemirror_mode": {
    "name": "ipython",
    "version": 3
   },
   "file_extension": ".py",
   "mimetype": "text/x-python",
   "name": "python",
   "nbconvert_exporter": "python",
   "pygments_lexer": "ipython3",
   "version": "3.11.13"
  }
 },
 "nbformat": 4,
 "nbformat_minor": 5
}
